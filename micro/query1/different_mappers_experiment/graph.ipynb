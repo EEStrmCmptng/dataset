{
 "cells": [
  {
   "cell_type": "code",
   "execution_count": 34,
   "id": "bb23eda8-6fca-47c3-b7f3-52eabcc7c352",
   "metadata": {},
   "outputs": [
    {
     "name": "stdout",
     "output_type": "stream",
     "text": [
      "The history saving thread hit an unexpected error (OperationalError('attempt to write a readonly database')).History will not be written to the database.\n"
     ]
    }
   ],
   "source": [
    "import pandas as pd\n",
    "import numpy as np\n",
    "import matplotlib.pylab as plt"
   ]
  },
  {
   "cell_type": "code",
   "execution_count": 47,
   "id": "0f45087c-9924-4a71-9365-d998258d7fc5",
   "metadata": {},
   "outputs": [],
   "source": [
    "d = pd.read_csv(\"combined.csv\")\n",
    "d2 = d[(d['SourcenumRecordsOutPerSecond_avg'] >= (d['rate'] * 0.95)) & (d.i == 0) & (d.nmappers <= 16)]"
   ]
  },
  {
   "cell_type": "code",
   "execution_count": 48,
   "id": "48f44a79-ea92-47dc-a33b-3ec8b88a03e0",
   "metadata": {},
   "outputs": [
    {
     "name": "stdout",
     "output_type": "stream",
     "text": [
      "Index(['Unnamed: 0', 'sleepdisable', 'i', 'itr', 'dvfs', 'rate', 'policy',\n",
      "       'nmappers', 'pkg_watts_avg', 'pkg_watts_std', 'ram_watts_avg',\n",
      "       'ram_watts_std', 'SinknumRecordsInPerSecond_avg',\n",
      "       'SinknumRecordsInPerSecond_std', 'SinknumRecordsOutPerSecond_avg',\n",
      "       'SinknumRecordsOutPerSecond_std', 'SinkbusyTimeMsPerSecond_avg',\n",
      "       'SinkbusyTimeMsPerSecond_std', 'SinkbackPressuredTimeMsPerSecond_avg',\n",
      "       'SinkbackPressuredTimeMsPerSecond_std', 'SinkbusyTime_%',\n",
      "       'SinkbackPressuredTime_%', 'SourcenumRecordsInPerSecond_avg',\n",
      "       'SourcenumRecordsInPerSecond_std', 'SourcenumRecordsOutPerSecond_avg',\n",
      "       'SourcenumRecordsOutPerSecond_std', 'SourcebusyTimeMsPerSecond_avg',\n",
      "       'SourcebusyTimeMsPerSecond_std',\n",
      "       'SourcebackPressuredTimeMsPerSecond_avg',\n",
      "       'SourcebackPressuredTimeMsPerSecond_std', 'SourcebusyTime_%',\n",
      "       'SourcebackPressuredTime_%', 'MappernumRecordsInPerSecond_avg',\n",
      "       'MappernumRecordsInPerSecond_std', 'MappernumRecordsOutPerSecond_avg',\n",
      "       'MappernumRecordsOutPerSecond_std', 'MapperbusyTimeMsPerSecond_avg',\n",
      "       'MapperbusyTimeMsPerSecond_std',\n",
      "       'MapperbackPressuredTimeMsPerSecond_avg',\n",
      "       'MapperbackPressuredTimeMsPerSecond_std', 'MapperbusyTime_%',\n",
      "       'MapperbackPressuredTime_%'],\n",
      "      dtype='object')\n"
     ]
    }
   ],
   "source": [
    "print(d2.columns)"
   ]
  },
  {
   "cell_type": "code",
   "execution_count": 49,
   "id": "f3881338-6098-427b-a8bf-e157cd31c0a3",
   "metadata": {},
   "outputs": [
    {
     "data": {
      "image/png": "[encoded data removed]",
      "text/plain": [
       "<Figure size 400x200 with 2 Axes>"
      ]
     },
     "metadata": {},
     "output_type": "display_data"
    }
   ],
   "source": [
    "plt.figure(figsize=(4,2))\n",
    "plt.scatter(d2['nmappers'], d2['pkg_watts_avg'], c=d2['rate'], cmap='viridis')\n",
    "plt.colorbar(label='Rate')\n",
    "plt.xticks(d2.nmappers.unique())\n",
    "plt.xlabel('Number of Mappers')\n",
    "plt.ylabel('Power (W)')\n",
    "plt.title('Query1 Power vs N.Mappers')\n",
    "plt.ylim(bottom=0)\n",
    "plt.xlim(left=0)\n",
    "plt.grid()\n",
    "plt.savefig(\"query1.pdf\")\n"
   ]
  },
  {
   "cell_type": "markdown",
   "id": "4632d224-7cef-477e-808d-09242a3f891a",
   "metadata": {},
   "source": [
    "# Analysis\n",
    "\n",
    "We find at lower RPS rates (100K, 200K) that scaling up the number of Mappers results in lower power use for the same load, at 26% for 100K and 14% at 200K. When the Mapper node is getting more saturated (300K, 400K), we don't see this effect. "
   ]
  },
  {
   "cell_type": "code",
   "execution_count": 50,
   "id": "a8f106e9-98e0-41c6-9f3d-ea7eba419882",
   "metadata": {},
   "outputs": [
    {
     "data": {
      "text/html": [
       "<div>\n",
       "<style scoped>\n",
       "    .dataframe tbody tr th:only-of-type {\n",
       "        vertical-align: middle;\n",
       "    }\n",
       "\n",
       "    .dataframe tbody tr th {\n",
       "        vertical-align: top;\n",
       "    }\n",
       "\n",
       "    .dataframe thead th {\n",
       "        text-align: right;\n",
       "    }\n",
       "</style>\n",
       "<table border=\"1\" class=\"dataframe\">\n",
       "  <thead>\n",
       "    <tr style=\"text-align: right;\">\n",
       "      <th></th>\n",
       "      <th>nmappers</th>\n",
       "      <th>pkg_watts_avg</th>\n",
       "    </tr>\n",
       "  </thead>\n",
       "  <tbody>\n",
       "    <tr>\n",
       "      <th>0</th>\n",
       "      <td>4</td>\n",
       "      <td>38.71</td>\n",
       "    </tr>\n",
       "    <tr>\n",
       "      <th>4</th>\n",
       "      <td>8</td>\n",
       "      <td>30.57</td>\n",
       "    </tr>\n",
       "    <tr>\n",
       "      <th>8</th>\n",
       "      <td>16</td>\n",
       "      <td>31.44</td>\n",
       "    </tr>\n",
       "  </tbody>\n",
       "</table>\n",
       "</div>"
      ],
      "text/plain": [
       "   nmappers  pkg_watts_avg\n",
       "0         4          38.71\n",
       "4         8          30.57\n",
       "8        16          31.44"
      ]
     },
     "execution_count": 50,
     "metadata": {},
     "output_type": "execute_result"
    }
   ],
   "source": [
    "d2[(d2.rate==100000)][['nmappers', 'pkg_watts_avg']]"
   ]
  },
  {
   "cell_type": "code",
   "execution_count": 51,
   "id": "b9337c95-f51c-4edc-b355-d5f6d1da8813",
   "metadata": {},
   "outputs": [
    {
     "data": {
      "text/html": [
       "<div>\n",
       "<style scoped>\n",
       "    .dataframe tbody tr th:only-of-type {\n",
       "        vertical-align: middle;\n",
       "    }\n",
       "\n",
       "    .dataframe tbody tr th {\n",
       "        vertical-align: top;\n",
       "    }\n",
       "\n",
       "    .dataframe thead th {\n",
       "        text-align: right;\n",
       "    }\n",
       "</style>\n",
       "<table border=\"1\" class=\"dataframe\">\n",
       "  <thead>\n",
       "    <tr style=\"text-align: right;\">\n",
       "      <th></th>\n",
       "      <th>nmappers</th>\n",
       "      <th>pkg_watts_avg</th>\n",
       "    </tr>\n",
       "  </thead>\n",
       "  <tbody>\n",
       "    <tr>\n",
       "      <th>23</th>\n",
       "      <td>8</td>\n",
       "      <td>57.31</td>\n",
       "    </tr>\n",
       "    <tr>\n",
       "      <th>27</th>\n",
       "      <td>16</td>\n",
       "      <td>53.07</td>\n",
       "    </tr>\n",
       "  </tbody>\n",
       "</table>\n",
       "</div>"
      ],
      "text/plain": [
       "    nmappers  pkg_watts_avg\n",
       "23         8          57.31\n",
       "27        16          53.07"
      ]
     },
     "execution_count": 51,
     "metadata": {},
     "output_type": "execute_result"
    }
   ],
   "source": [
    "d2[(d2.rate==200000)][['nmappers', 'pkg_watts_avg']]"
   ]
  },
  {
   "cell_type": "code",
   "execution_count": 52,
   "id": "fb7f83ad-63e4-4e87-bc55-370dc311683e",
   "metadata": {},
   "outputs": [
    {
     "data": {
      "text/html": [
       "<div>\n",
       "<style scoped>\n",
       "    .dataframe tbody tr th:only-of-type {\n",
       "        vertical-align: middle;\n",
       "    }\n",
       "\n",
       "    .dataframe tbody tr th {\n",
       "        vertical-align: top;\n",
       "    }\n",
       "\n",
       "    .dataframe thead th {\n",
       "        text-align: right;\n",
       "    }\n",
       "</style>\n",
       "<table border=\"1\" class=\"dataframe\">\n",
       "  <thead>\n",
       "    <tr style=\"text-align: right;\">\n",
       "      <th></th>\n",
       "      <th>nmappers</th>\n",
       "      <th>pkg_watts_avg</th>\n",
       "    </tr>\n",
       "  </thead>\n",
       "  <tbody>\n",
       "    <tr>\n",
       "      <th>46</th>\n",
       "      <td>16</td>\n",
       "      <td>69.06</td>\n",
       "    </tr>\n",
       "  </tbody>\n",
       "</table>\n",
       "</div>"
      ],
      "text/plain": [
       "    nmappers  pkg_watts_avg\n",
       "46        16          69.06"
      ]
     },
     "execution_count": 52,
     "metadata": {},
     "output_type": "execute_result"
    }
   ],
   "source": [
    "d2[(d2.rate==300000)][['nmappers', 'pkg_watts_avg']]"
   ]
  },
  {
   "cell_type": "code",
   "execution_count": 53,
   "id": "6156cb8e-6eef-4d6d-a66c-9a1d11da4d0e",
   "metadata": {},
   "outputs": [
    {
     "data": {
      "text/html": [
       "<div>\n",
       "<style scoped>\n",
       "    .dataframe tbody tr th:only-of-type {\n",
       "        vertical-align: middle;\n",
       "    }\n",
       "\n",
       "    .dataframe tbody tr th {\n",
       "        vertical-align: top;\n",
       "    }\n",
       "\n",
       "    .dataframe thead th {\n",
       "        text-align: right;\n",
       "    }\n",
       "</style>\n",
       "<table border=\"1\" class=\"dataframe\">\n",
       "  <thead>\n",
       "    <tr style=\"text-align: right;\">\n",
       "      <th></th>\n",
       "      <th>nmappers</th>\n",
       "      <th>pkg_watts_avg</th>\n",
       "    </tr>\n",
       "  </thead>\n",
       "  <tbody>\n",
       "    <tr>\n",
       "      <th>64</th>\n",
       "      <td>16</td>\n",
       "      <td>86.96</td>\n",
       "    </tr>\n",
       "  </tbody>\n",
       "</table>\n",
       "</div>"
      ],
      "text/plain": [
       "    nmappers  pkg_watts_avg\n",
       "64        16          86.96"
      ]
     },
     "execution_count": 53,
     "metadata": {},
     "output_type": "execute_result"
    }
   ],
   "source": [
    "d2[(d2.rate==400000)][['nmappers', 'pkg_watts_avg']]"
   ]
  },
  {
   "cell_type": "markdown",
   "id": "0de39272-3b1e-4796-8bc9-25273b7c9751",
   "metadata": {},
   "source": []
  }
 ],
 "metadata": {
  "kernelspec": {
   "display_name": "Python 3 (ipykernel)",
   "language": "python",
   "name": "python3"
  },
  "language_info": {
   "codemirror_mode": {
    "name": "ipython",
    "version": 3
   },
   "file_extension": ".py",
   "mimetype": "text/x-python",
   "name": "python",
   "nbconvert_exporter": "python",
   "pygments_lexer": "ipython3",
   "version": "3.10.12"
  }
 },
 "nbformat": 4,
 "nbformat_minor": 5
}
